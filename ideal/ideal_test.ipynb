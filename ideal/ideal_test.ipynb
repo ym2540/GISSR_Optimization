{
 "cells": [
  {
   "cell_type": "markdown",
   "id": "60e5514a",
   "metadata": {},
   "source": [
    "# Testing GISSR-style inundation on ideal topo"
   ]
  },
  {
   "cell_type": "markdown",
   "id": "1326e379",
   "metadata": {},
   "source": [
    "Imports and setups"
   ]
  },
  {
   "cell_type": "code",
   "execution_count": 1,
   "id": "b00f5d94",
   "metadata": {},
   "outputs": [],
   "source": [
    "import pandas as pd\n",
    "import numpy as np\n",
    "\n",
    "import params_ideal as params\n",
    "\n",
    "from fun_ideal import calc_flood_height, generate_groups, calc_group_vol, calc_group_h\n",
    "from ideal_damage import Damage\n",
    "from topo_ideal import Topo"
   ]
  },
  {
   "cell_type": "code",
   "execution_count": 2,
   "id": "a63f2795",
   "metadata": {},
   "outputs": [],
   "source": [
    "topo_file = \"ideal_topo_gp_points_1.csv\"\n",
    "storm_file = \"SurgeData/surge_w.csv\"\n",
    "div_data_file = \"ideal_div_data.csv\"\n",
    "time_file = \"SurgeData/time_w.csv\"\n",
    "damage_table_file = \"damage_table.csv\""
   ]
  },
  {
   "cell_type": "code",
   "execution_count": 3,
   "id": "df3b6cee",
   "metadata": {},
   "outputs": [],
   "source": [
    "surge = pd.read_csv(storm_file).values\n",
    "surge_time = pd.read_csv(time_file).values\n",
    "damage_table = pd.read_csv(damage_table_file)\n",
    "\n",
    "\n",
    "Topo = Topo(topo_file=topo_file)\n",
    "Damage = Damage(damage_table_file)"
   ]
  },
  {
   "cell_type": "code",
   "execution_count": 4,
   "id": "f9df04e2",
   "metadata": {},
   "outputs": [],
   "source": [
    "# generate groups\n",
    "groups = generate_groups(Topo.div_data)\n",
    "\n",
    "segment_l = 100\n",
    "wall_height = np.zeros(Topo.shore_height.size)\n",
    "\n",
    "positions = []\n",
    "for i, p in enumerate(wall_height):\n",
    "    if Topo.all_divs[i] in divs_allocate:\n",
    "        positions.append(i)\n"
   ]
  },
  {
   "cell_type": "markdown",
   "id": "99e4339d",
   "metadata": {},
   "source": [
    "# Calculate indundation with varying sized walls\n",
    "Equal height wall for all divs in divs_allocate"
   ]
  },
  {
   "cell_type": "code",
   "execution_count": 5,
   "id": "2e17a001",
   "metadata": {
    "scrolled": true
   },
   "outputs": [],
   "source": [
    "divs_allocate = list(range(18))\n",
    "h_start = 0\n",
    "h_end = 0\n",
    "h_num = 1\n",
    "\n",
    "points = []\n",
    "wall_height[positions] = h_start\n",
    "\n",
    "for h in np.linspace(h_start, h_end, num=h_num):\n",
    "    wall_height[:] = 0\n",
    "    wall_height[positions] = h\n",
    "\n",
    "    height_div, volume_div = calc_flood_height(Topo, surge, surge_time, wall_height, positions)\n",
    "\n",
    "    # calculate group volumes\n",
    "    volume_grouped = calc_group_vol(groups, volume_div)\n",
    "\n",
    "    # get height in each group\n",
    "    surge_peak = np.amax(surge, axis=1)\n",
    "    height_grouped = calc_group_h(Topo, groups, volume_grouped, surge_peak)\n",
    "\n",
    "    #Damage\n",
    "    dmg = Damage.calc_damage(height_grouped)\n",
    "    cost_dmg = np.sum(dmg)\n",
    "    cost_wall = np.sum(49212 * wall_height * segment_l)\n",
    "    cost_tot = cost_dmg + cost_wall\n",
    "\n",
    "    points.append([h, cost_wall, cost_dmg, cost_tot])\n",
    "\n",
    "    \n",
    "df = pd.DataFrame(points)"
   ]
  },
  {
   "cell_type": "markdown",
   "id": "f7de653d",
   "metadata": {},
   "source": [
    "# Inundation with varying travel distance for redistribution"
   ]
  },
  {
   "cell_type": "code",
   "execution_count": 7,
   "id": "9ae3a311",
   "metadata": {},
   "outputs": [
    {
     "name": "stdout",
     "output_type": "stream",
     "text": [
      "2.111786760315196\n",
      "1.9132307318389286\n",
      "1.4613825156433067\n",
      "1.395046664761575\n",
      "1.1466808706262952\n",
      "0.7820765536149783\n",
      "0.722291706168471\n",
      "0.5665716700681627\n",
      "0.6586818782608771\n",
      "0.7206438482290775\n"
     ]
    }
   ],
   "source": [
    "divs_allocate = list(range(18))\n",
    "h_start = 0\n",
    "h_end = 0\n",
    "h_num = 1\n",
    "\n",
    "points = []\n",
    "wall_height[positions] = h_start\n",
    "\n",
    "data = []\n",
    "for r in range(10):\n",
    "    params.travel_dist = r\n",
    "    groups = generate_groups(Topo.div_data)\n",
    "\n",
    "    for h in np.linspace(h_start, h_end, num=h_num):\n",
    "        wall_height[:] = 0\n",
    "        wall_height[positions] = h\n",
    "\n",
    "        height_div, volume_div = calc_flood_height(Topo, surge, surge_time, wall_height, positions)\n",
    "\n",
    "        # calculate group volumes\n",
    "        volume_grouped = calc_group_vol(groups, volume_div)\n",
    "\n",
    "        # get height in each group\n",
    "        surge_peak = np.amax(surge, axis=1)\n",
    "        height_grouped = calc_group_h(Topo, groups, volume_grouped, surge_peak)\n",
    "\n",
    "        #Damage\n",
    "        dmg = Damage.calc_damage(height_grouped)\n",
    "        cost_dmg = np.sum(dmg)\n",
    "        cost_wall = np.sum(49212 * wall_height * segment_l)\n",
    "        cost_tot = cost_dmg + cost_wall\n",
    "\n",
    "        points.append([h, cost_wall, cost_dmg, cost_tot])\n",
    "\n",
    "        data.append(height_grouped[4])\n",
    "        print(np.max(np.max(height_grouped, axis=1) - np.min(height_grouped, axis=1)))\n",
    "\n",
    "df = pd.DataFrame(data)\n",
    "df.to_csv(\"ideal_test_travel.csv\")"
   ]
  },
  {
   "cell_type": "code",
   "execution_count": null,
   "id": "83336c32",
   "metadata": {},
   "outputs": [],
   "source": []
  }
 ],
 "metadata": {
  "kernelspec": {
   "display_name": "Python 3",
   "language": "python",
   "name": "python3"
  },
  "language_info": {
   "codemirror_mode": {
    "name": "ipython",
    "version": 3
   },
   "file_extension": ".py",
   "mimetype": "text/x-python",
   "name": "python",
   "nbconvert_exporter": "python",
   "pygments_lexer": "ipython3",
   "version": "3.7.11"
  }
 },
 "nbformat": 4,
 "nbformat_minor": 5
}
