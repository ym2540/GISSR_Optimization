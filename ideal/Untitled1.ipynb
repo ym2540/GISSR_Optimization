{
 "cells": [
  {
   "cell_type": "code",
   "execution_count": 2,
   "id": "2582151c",
   "metadata": {},
   "outputs": [],
   "source": [
    "import pandas as pd\n",
    "import numpy as np\n",
    "import time\n",
    "import itertools as it\n",
    "\n",
    "from fun_ideal import calc_flood_height, generate_groups, calc_group_vol, calc_group_h\n",
    "from ideal_damage import Damage\n",
    "from topo_ideal import Topo"
   ]
  },
  {
   "cell_type": "code",
   "execution_count": 5,
   "id": "916f7d62",
   "metadata": {},
   "outputs": [],
   "source": [
    "topo_file = \"ideal_topo_gp_points_1.csv\"\n",
    "storm_file = \"SurgeData/surge_w.csv\"\n",
    "div_data_file = \"ideal_div_data.csv\"\n",
    "time_file = \"SurgeData/time_w.csv\"\n",
    "damage_table_file = \"damage_table.csv\""
   ]
  },
  {
   "cell_type": "code",
   "execution_count": 6,
   "id": "d000b639",
   "metadata": {},
   "outputs": [],
   "source": [
    "surge = pd.read_csv(storm_file).values\n",
    "surge_time = pd.read_csv(time_file).values\n",
    "damage_table = pd.read_csv(damage_table_file)\n",
    "\n",
    "\n",
    "\n",
    "Topo = Topo()\n",
    "Damage = Damage(damage_table_file)"
   ]
  },
  {
   "cell_type": "code",
   "execution_count": 11,
   "id": "11c0c1e1",
   "metadata": {},
   "outputs": [],
   "source": [
    "# generate groups\n",
    "groups = generate_groups(Topo.div_data)\n",
    "\n",
    "\n",
    "divs_allocate = list(range(11,17))\n",
    "h_start = 0\n",
    "h_end = 5\n",
    "h_num = 10\n",
    "segment_l = 100\n",
    "wall_height = np.zeros(Topo.shore_height.size)\n",
    "\n",
    "positions = []\n",
    "for i, p in enumerate(wall_height):\n",
    "    if Topo.all_divs[i] in divs_allocate:\n",
    "        positions.append(i)"
   ]
  },
  {
   "cell_type": "code",
   "execution_count": 12,
   "id": "6b0134fe",
   "metadata": {},
   "outputs": [
    {
     "name": "stdout",
     "output_type": "stream",
     "text": [
      "          0             1             2             3\n",
      "0  0.000000  0.000000e+00  1.226800e+08  1.226800e+08\n",
      "1  0.555556  1.312320e+08  8.905358e+07  2.202856e+08\n",
      "2  1.111111  2.624640e+08  8.316970e+07  3.456337e+08\n",
      "3  1.666667  3.936960e+08  8.017305e+07  4.738691e+08\n",
      "4  2.222222  5.249280e+08  8.017305e+07  6.051011e+08\n",
      "5  2.777778  6.561600e+08  8.017305e+07  7.363331e+08\n",
      "6  3.333333  7.873920e+08  8.017305e+07  8.675651e+08\n",
      "7  3.888889  9.186240e+08  8.017305e+07  9.987971e+08\n",
      "8  4.444444  1.049856e+09  8.017305e+07  1.130029e+09\n",
      "9  5.000000  1.181088e+09  8.017305e+07  1.261261e+09\n"
     ]
    }
   ],
   "source": [
    "points = []\n",
    "wall_height[positions] = h_start\n",
    "\n",
    "for h in np.linspace(h_start, h_end, num=h_num):\n",
    "    wall_height[:] = 0\n",
    "    wall_height[positions] = h\n",
    "    \n",
    "    height_div, volume_div = calc_flood_height(Topo, surge, surge_time, wall_height)\n",
    "    # calculate group volumes\n",
    "    volume_grouped = calc_group_vol(groups, volume_div)\n",
    "    # get height in each group\n",
    "    height_group = calc_group_h(Topo, groups, volume_grouped)\n",
    "    \n",
    "    #Damage\n",
    "    dmg = Damage.calc_damage(height_group)\n",
    "    cost_dmg = np.sum(dmg)\n",
    "    cost_wall = np.sum(49212 * wall_height * segment_l)\n",
    "    cost_tot = cost_dmg + cost_wall\n",
    "\n",
    "    points.append([h, cost_wall, cost_dmg, cost_tot])\n",
    "    \n",
    "df = pd.DataFrame(points)\n",
    "print(df)"
   ]
  },
  {
   "cell_type": "code",
   "execution_count": null,
   "id": "beadbb5d",
   "metadata": {},
   "outputs": [],
   "source": []
  }
 ],
 "metadata": {
  "kernelspec": {
   "display_name": "Python 3",
   "language": "python",
   "name": "python3"
  },
  "language_info": {
   "codemirror_mode": {
    "name": "ipython",
    "version": 3
   },
   "file_extension": ".py",
   "mimetype": "text/x-python",
   "name": "python",
   "nbconvert_exporter": "python",
   "pygments_lexer": "ipython3",
   "version": "3.7.11"
  }
 },
 "nbformat": 4,
 "nbformat_minor": 5
}
