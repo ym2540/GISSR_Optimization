{
 "cells": [
  {
   "cell_type": "markdown",
   "id": "a9774902",
   "metadata": {},
   "source": [
    "# Optimizing SR on Ideal Topography"
   ]
  },
  {
   "cell_type": "code",
   "execution_count": 1,
   "id": "e1e96d61",
   "metadata": {},
   "outputs": [],
   "source": [
    "import pandas as pd\n",
    "import numpy as np\n",
    "import matplotlib.pyplot as plt\n",
    "\n",
    "import params_ideal as params\n",
    "\n",
    "from fun_ideal import calc_flood_height, generate_groups, calc_group_vol, calc_group_h, get_wall_heights\n",
    "from ideal_damage import Damage\n",
    "from topo_ideal import Topo"
   ]
  },
  {
   "cell_type": "code",
   "execution_count": 2,
   "id": "a919ade5",
   "metadata": {},
   "outputs": [],
   "source": [
    "topo_file = \"Input/ideal_topo_gp_points_1.csv\"\n",
    "storm_file = \"SurgeData/0-waterlevel_w.csv\"\n",
    "div_data_file = \"Input/ideal_div_data.csv\"\n",
    "time_file = \"SurgeData/0-time_w.csv\"\n",
    "damage_table_file = \"Input/damage_table.csv\""
   ]
  },
  {
   "cell_type": "code",
   "execution_count": 3,
   "id": "753cbc28",
   "metadata": {},
   "outputs": [],
   "source": [
    "surge = pd.read_csv(storm_file).values\n",
    "surge_time = pd.read_csv(time_file).values\n",
    "damage_table = pd.read_csv(damage_table_file)\n",
    "\n",
    "\n",
    "Topo = Topo(topo_file=topo_file)\n",
    "Damage = Damage(damage_table_file)"
   ]
  },
  {
   "cell_type": "code",
   "execution_count": 4,
   "id": "16088abd",
   "metadata": {},
   "outputs": [],
   "source": [
    "# generate groups\n",
    "#groups = generate_groups(Topo.div_data)\n",
    "\n",
    "segment_l = 100\n",
    "wall_height = np.zeros(Topo.shore_height.size)"
   ]
  },
  {
   "cell_type": "markdown",
   "id": "030710a9",
   "metadata": {},
   "source": [
    "# Infinite Water Travel\n",
    "(Water level is assumed to reach equilibrium)"
   ]
  },
  {
   "cell_type": "markdown",
   "id": "5a0890ae",
   "metadata": {},
   "source": [
    "# Single Ensemble Uniform Allocation\n",
    "Allocates same height across the topo (Note: might not make difference if on uniform topo)"
   ]
  },
  {
   "cell_type": "code",
   "execution_count": 5,
   "id": "d9a5027f",
   "metadata": {},
   "outputs": [],
   "source": [
    "params.travel_dist = 2\n",
    "\n",
    "divs_allocate = list(range(18))\n",
    "groups = generate_groups(Topo.div_data)\n",
    "\n",
    "positions = []\n",
    "for i, p in enumerate(wall_height):\n",
    "    if Topo.all_divs[i] in divs_allocate:\n",
    "        positions.append(i)\n",
    "        \n",
    "h_start = 0\n",
    "h_end = 3\n",
    "h_num = 100\n",
    "\n",
    "points = []\n",
    "wall_height[positions] = h_start"
   ]
  },
  {
   "cell_type": "code",
   "execution_count": 6,
   "id": "191668ce",
   "metadata": {},
   "outputs": [
    {
     "name": "stdout",
     "output_type": "stream",
     "text": [
      "           0             1             2             3             4  \\\n",
      "0   0.000000  0.000000e+00  2.044442e+08  2.044442e+08  37824.933093   \n",
      "1   0.030303  2.162345e+07  1.907336e+08  2.123571e+08  22723.724272   \n",
      "2   0.060606  4.324691e+07  1.880609e+08  2.313078e+08  22573.964662   \n",
      "3   0.090909  6.487036e+07  1.831508e+08  2.480211e+08  22573.964662   \n",
      "4   0.121212  8.649382e+07  1.783425e+08  2.648363e+08  22573.964662   \n",
      "..       ...           ...           ...           ...           ...   \n",
      "95  2.878788  2.054228e+09  0.000000e+00  2.054228e+09      0.000000   \n",
      "96  2.909091  2.075852e+09  0.000000e+00  2.075852e+09      0.000000   \n",
      "97  2.939394  2.097475e+09  0.000000e+00  2.097475e+09      0.000000   \n",
      "98  2.969697  2.119099e+09  0.000000e+00  2.119099e+09      0.000000   \n",
      "99  3.000000  2.140722e+09  0.000000e+00  2.140722e+09      0.000000   \n",
      "\n",
      "               5             6             7              8             9  \n",
      "0   1.896732e+06  17735.317501  1.600308e+06  155715.012924  7.565048e+06  \n",
      "1   1.180393e+06   9394.360305  9.430714e+05   88599.964767  4.658303e+06  \n",
      "2   1.155378e+06   8877.198195  8.778657e+05   76189.948352  4.434440e+06  \n",
      "3   1.132212e+06   8877.198195  8.175803e+05   59443.255591  4.145182e+06  \n",
      "4   1.111073e+06   8877.198195  7.627606e+05   44092.766078  3.839927e+06  \n",
      "..           ...           ...           ...            ...           ...  \n",
      "95  0.000000e+00      0.000000  0.000000e+00       0.000000  0.000000e+00  \n",
      "96  0.000000e+00      0.000000  0.000000e+00       0.000000  0.000000e+00  \n",
      "97  0.000000e+00      0.000000  0.000000e+00       0.000000  0.000000e+00  \n",
      "98  0.000000e+00      0.000000  0.000000e+00       0.000000  0.000000e+00  \n",
      "99  0.000000e+00      0.000000  0.000000e+00       0.000000  0.000000e+00  \n",
      "\n",
      "[100 rows x 10 columns]\n"
     ]
    },
    {
     "data": {
      "text/plain": [
       "[<matplotlib.lines.Line2D at 0x1e97d67e608>]"
      ]
     },
     "execution_count": 6,
     "metadata": {},
     "output_type": "execute_result"
    },
    {
     "data": {
      "image/png": "[encoded data removed]",
      "text/plain": [
       "<Figure size 432x288 with 1 Axes>"
      ]
     },
     "metadata": {
      "needs_background": "light"
     },
     "output_type": "display_data"
    }
   ],
   "source": [
    "for h in np.linspace(h_start, h_end, num=h_num):\n",
    "    wall_height[:] = 0\n",
    "    wall_height[positions] = h\n",
    "\n",
    "    height_div, volume_div = calc_flood_height(Topo, surge, surge_time, wall_height, positions)\n",
    "\n",
    "    # calculate group volumes\n",
    "    volume_grouped = calc_group_vol(groups, volume_div)\n",
    "\n",
    "    # get height in each group\n",
    "    surge_peak = np.amax(surge, axis=1)\n",
    "    height_grouped = calc_group_h(Topo, groups, volume_grouped, surge_peak)\n",
    "\n",
    "    #Damage\n",
    "    dmg = Damage.calc_damage(height_grouped)\n",
    "    cost_dmg = np.sum(dmg)\n",
    "    cost_wall = np.sum(49212 * wall_height * segment_l)\n",
    "    cost_tot = cost_dmg + cost_wall\n",
    "\n",
    "    points.append([h, cost_wall, cost_dmg, cost_tot, volume_div[0,0], volume_div[4,0], volume_div[0, 10], volume_div[4,10], volume_grouped[0,0], volume_grouped[4,0]])\n",
    "    \n",
    "df = pd.DataFrame(points)\n",
    "df.to_csv(\"Output/full_uniform_wall_opt.csv\")\n",
    "print(df)\n",
    "plt.plot(df.iloc[:,0], df.iloc[:,3])"
   ]
  },
  {
   "cell_type": "markdown",
   "id": "f103d721",
   "metadata": {},
   "source": [
    "# Single Ensemble Even Allocation\n",
    "Allocates to even out topo"
   ]
  },
  {
   "cell_type": "code",
   "execution_count": 7,
   "id": "de1e3f7f",
   "metadata": {},
   "outputs": [],
   "source": [
    "params.travel_dist = 999\n",
    "\n",
    "\n",
    "groups = generate_groups(Topo.div_data)\n",
    "        \n",
    "h_max = 3\n",
    "dh = 0.01\n",
    "\n",
    "\n",
    "min_height = np.min(Topo.shore_height)\n",
    "N = int(np.max(np.ceil((h_max - min_height)/dh), 0))"
   ]
  },
  {
   "cell_type": "code",
   "execution_count": 8,
   "id": "957d9414",
   "metadata": {},
   "outputs": [
    {
     "name": "stdout",
     "output_type": "stream",
     "text": [
      "        0             1             2             3             4  \\\n",
      "0    1.90  0.000000e+00  2.048367e+08  2.048367e+08  37824.933093   \n",
      "1    1.91  4.679520e+07  1.912067e+08  2.380019e+08  21056.579778   \n",
      "2    1.92  4.827156e+07  1.879352e+08  2.362067e+08  18498.360961   \n",
      "3    1.93  4.979681e+07  1.841735e+08  2.339704e+08  16118.827944   \n",
      "4    1.94  5.132238e+07  1.812223e+08  2.325447e+08  13926.740883   \n",
      "..    ...           ...           ...           ...           ...   \n",
      "105  2.95  4.487707e+08  1.944356e+07  4.682142e+08      0.000000   \n",
      "106  2.96  4.545285e+08  1.906900e+07  4.735975e+08      0.000000   \n",
      "107  2.97  4.602863e+08  1.868901e+07  4.789753e+08      0.000000   \n",
      "108  2.98  4.660441e+08  1.830301e+07  4.843471e+08      0.000000   \n",
      "109  2.99  4.718293e+08  1.790058e+07  4.897299e+08      0.000000   \n",
      "\n",
      "                5             6             7              8             9  \n",
      "0    1.896732e+06  17735.317501  1.600308e+06  582635.545413  3.819258e+07  \n",
      "1    1.322091e+06  11141.172520  1.374330e+06  331450.104337  2.954987e+07  \n",
      "2    1.294824e+06  10135.154490  1.363607e+06  292916.380408  2.913915e+07  \n",
      "3    1.268081e+06   9199.404544  1.353091e+06  251355.112976  2.849896e+07  \n",
      "4    1.241874e+06   8337.367609  1.342785e+06  217379.783236  2.809278e+07  \n",
      "..            ...           ...           ...            ...           ...  \n",
      "105  0.000000e+00      0.000000  0.000000e+00       0.000000  0.000000e+00  \n",
      "106  0.000000e+00      0.000000  0.000000e+00       0.000000  0.000000e+00  \n",
      "107  0.000000e+00      0.000000  0.000000e+00       0.000000  0.000000e+00  \n",
      "108  0.000000e+00      0.000000  0.000000e+00       0.000000  0.000000e+00  \n",
      "109  0.000000e+00      0.000000  0.000000e+00       0.000000  0.000000e+00  \n",
      "\n",
      "[110 rows x 10 columns]\n"
     ]
    },
    {
     "data": {
      "text/plain": [
       "[<matplotlib.lines.Line2D at 0x1e97d820748>]"
      ]
     },
     "execution_count": 8,
     "metadata": {},
     "output_type": "execute_result"
    },
    {
     "data": {
      "image/png": "[encoded data removed]",
      "text/plain": [
       "<Figure size 432x288 with 1 Axes>"
      ]
     },
     "metadata": {
      "needs_background": "light"
     },
     "output_type": "display_data"
    }
   ],
   "source": [
    "points = []\n",
    "for n in range(N):\n",
    "    height = min_height + n*dh\n",
    "\n",
    "    pos, wall_heights = get_wall_heights(Topo, height) \n",
    "\n",
    "    height_div, volume_div = calc_flood_height(Topo, surge, surge_time, wall_heights, pos)\n",
    "\n",
    "    # calculate group volumes\n",
    "    volume_grouped = calc_group_vol(groups, volume_div)\n",
    "\n",
    "    # get height in each group\n",
    "    surge_peak = np.amax(surge, axis=1)\n",
    "    height_grouped = calc_group_h(Topo, groups, volume_grouped, surge_peak)\n",
    "\n",
    "    #Damage\n",
    "    dmg = Damage.calc_damage(height_grouped)\n",
    "    cost_dmg = np.sum(dmg)\n",
    "    cost_wall = np.sum(49212 * wall_heights * segment_l)\n",
    "    cost_tot = cost_dmg + cost_wall\n",
    "\n",
    "    points.append([height, cost_wall, cost_dmg, cost_tot, volume_div[0,0], volume_div[4,0], volume_div[0, 10], volume_div[4,10], volume_grouped[0,0], volume_grouped[4,0]])\n",
    "    \n",
    "df = pd.DataFrame(points)\n",
    "df.to_csv(\"Output/full_even_wall_opt.csv\")\n",
    "print(df)\n",
    "plt.plot(df.iloc[:,0], df.iloc[:,3])"
   ]
  },
  {
   "cell_type": "code",
   "execution_count": null,
   "id": "31948a7c",
   "metadata": {},
   "outputs": [],
   "source": []
  }
 ],
 "metadata": {
  "kernelspec": {
   "display_name": "Python 3",
   "language": "python",
   "name": "python3"
  },
  "language_info": {
   "codemirror_mode": {
    "name": "ipython",
    "version": 3
   },
   "file_extension": ".py",
   "mimetype": "text/x-python",
   "name": "python",
   "nbconvert_exporter": "python",
   "pygments_lexer": "ipython3",
   "version": "3.7.11"
  }
 },
 "nbformat": 4,
 "nbformat_minor": 5
}
