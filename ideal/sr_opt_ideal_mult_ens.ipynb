{
 "cells": [
  {
   "cell_type": "markdown",
   "id": "77417713",
   "metadata": {},
   "source": [
    "# Optimizing SR on Ideal Topography, Multiple Ensembles"
   ]
  },
  {
   "cell_type": "code",
   "execution_count": 1,
   "id": "2e2f0234",
   "metadata": {},
   "outputs": [],
   "source": [
    "import pandas as pd\n",
    "import numpy as np\n",
    "import glob\n",
    "import matplotlib.pyplot as plt\n",
    "import time\n",
    "\n",
    "import params_ideal as params\n",
    "\n",
    "from fun_ideal import calc_flood_height, generate_groups, calc_group_vol, calc_group_h, get_wall_heights\n",
    "from ideal_damage import Damage\n",
    "from topo_ideal import Topo\n",
    "\n",
    "damage_table_file = r'Input/damage_table_combined.csv'\n",
    "topo_file = \"Input/ideal_topo_gp_points_1.csv\"\n",
    "div_data_file = \"Input/ideal_div_data.csv\"\n",
    "\n",
    "ensemble_count = 5 # Number of ensembles\n",
    "\n",
    "damage_table = pd.read_csv(damage_table_file) # Piecewise linear approx to damage on manhattan (all divs)\n",
    "Topo = Topo(topo_file=topo_file)\n",
    "Damage = Damage(damage_table_file)\n",
    "\n",
    "segment_l = 100\n",
    "wall_height = np.zeros(Topo.shore_height.size)"
   ]
  },
  {
   "cell_type": "code",
   "execution_count": 2,
   "id": "ca7eaf6d",
   "metadata": {},
   "outputs": [],
   "source": [
    "params.travel_dist = 999 # Make sure redistribution is inf\n",
    "groups = generate_groups(Topo.div_data) # Groups for redistribution (full domain with travel dist inf)\n",
    "\n",
    "h_max = 3 # Solution space boundary\n",
    "dh = 0.01 # Resolution\n",
    "\n",
    "min_height = np.min(Topo.shore_height)\n",
    "N = int(np.max(np.ceil((h_max - min_height)/dh), 0))"
   ]
  },
  {
   "cell_type": "code",
   "execution_count": 5,
   "id": "3770bd76",
   "metadata": {},
   "outputs": [
    {
     "name": "stdout",
     "output_type": "stream",
     "text": [
      "1652714518.3430552\n"
     ]
    }
   ],
   "source": [
    "damage_div = np.empty((N, ensemble_count, 18)) # Uggly hardcode 18 divs\n",
    "\n",
    "surge_lst = [None]*ensemble_count\n",
    "surge_time_lst = [None]*ensemble_count\n",
    "\n",
    "time_start = time.time()\n",
    "\n",
    "for ens in range(ensemble_count):\n",
    "    surge_w = r'../SurgeData/%d-waterlevel_w.csv'%ens\n",
    "    surge_c = r'../SurgeData/%d-waterlevel_c.csv'%ens\n",
    "    time_w = r'../SurgeData/%d-time_w.csv'%ens\n",
    "    time_c = r'../SurgeData/%d-time_w.csv'%ens\n",
    "    \n",
    "    surge_lst[ens] = np.concatenate((pd.read_csv(surge_w).to_numpy(), pd.read_csv(surge_c).to_numpy()), axis=0)\n",
    "    surge_time_lst[ens] = np.concatenate((pd.read_csv(time_w).to_numpy(), pd.read_csv(time_c).to_numpy()), axis=0)\n",
    "      \n",
    "points = np.zeros((N, 2))\n",
    "for n in range(N):\n",
    "    \n",
    "    height = min_height + n*dh\n",
    "    points[n,0] = height\n",
    "    \n",
    "    pos, wall_heights = get_wall_heights(Topo, height)\n",
    "    cost_wall = np.sum(49212 * wall_heights * segment_l)\n",
    "    \n",
    "    for ens in range(ensemble_count):\n",
    "        surge = surge_lst[ens]\n",
    "        surge_time = surge_time_lst[ens]\n",
    "        \n",
    "        height_div, volume_div = calc_flood_height(Topo, surge, surge_time, wall_heights, pos)\n",
    "        \n",
    "        # calculate group volumes\n",
    "        volume_grouped = calc_group_vol(groups, volume_div)\n",
    "        \n",
    "        # get height in each group\n",
    "        surge_peak = np.amax(surge, axis=1)\n",
    "        height_grouped = calc_group_h(Topo, groups, volume_grouped, surge_peak)\n",
    "        \n",
    "        #Damage\n",
    "        dmg = Damage.calc_damage(height_grouped)\n",
    "        dmg_per_storm = np.sum(dmg, axis=1)\n",
    "        dmg_per_div = np.sum(dmg, axis=0)\n",
    "        dmg_tot = np.sum(dmg_per_div)\n",
    "        cost_tot = dmg_tot + cost_wall\n",
    "        damage_div[n, ens, :] = dmg_per_div\n",
    "        points[n,1] += cost_tot\n",
    "\n",
    "print(time.time() - start_time)"
   ]
  },
  {
   "cell_type": "code",
   "execution_count": 4,
   "id": "a72d37d3",
   "metadata": {},
   "outputs": [
    {
     "data": {
      "text/plain": [
       "Text(0.5, 0, 'Wall height (m)')"
      ]
     },
     "execution_count": 4,
     "metadata": {},
     "output_type": "execute_result"
    },
    {
     "data": {
      "image/png": "[encoded data removed]",
      "text/plain": [
       "<Figure size 432x288 with 1 Axes>"
      ]
     },
     "metadata": {
      "needs_background": "light"
     },
     "output_type": "display_data"
    }
   ],
   "source": [
    "plt.figure()\n",
    "plt.plot(points[:,0], points[:,1])\n",
    "plt.ylabel(r\"Total cost ($)\")\n",
    "plt.xlabel(r\"Wall height (m)\")"
   ]
  },
  {
   "cell_type": "code",
   "execution_count": null,
   "id": "45b78cbc",
   "metadata": {},
   "outputs": [],
   "source": []
  }
 ],
 "metadata": {
  "kernelspec": {
   "display_name": "Python 3",
   "language": "python",
   "name": "python3"
  },
  "language_info": {
   "codemirror_mode": {
    "name": "ipython",
    "version": 3
   },
   "file_extension": ".py",
   "mimetype": "text/x-python",
   "name": "python",
   "nbconvert_exporter": "python",
   "pygments_lexer": "ipython3",
   "version": "3.7.11"
  }
 },
 "nbformat": 4,
 "nbformat_minor": 5
}
