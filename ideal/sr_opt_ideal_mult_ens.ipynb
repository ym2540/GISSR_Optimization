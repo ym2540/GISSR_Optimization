{
 "cells": [
  {
   "cell_type": "markdown",
   "id": "95279ecb",
   "metadata": {},
   "source": [
    "# Optimizing SR on Ideal Topography, Multiple Ensembles"
   ]
  },
  {
   "cell_type": "code",
   "execution_count": 1,
   "id": "6edbff0f",
   "metadata": {},
   "outputs": [],
   "source": [
    "import pandas as pd\n",
    "import numpy as np\n",
    "import glob\n",
    "import matplotlib.pyplot as plt\n",
    "import time\n",
    "import scipy.optimize\n",
    "\n",
    "import params_ideal as params\n",
    "\n",
    "from fun_ideal import calc_flood_height, generate_groups, calc_group_vol, calc_group_h, get_wall_heights\n",
    "from ideal_damage import Damage\n",
    "from topo_ideal import Topo\n",
    "\n",
    "damage_table_file = r'Input/damage_table_combined.csv'\n",
    "topo_file = \"Input/ideal_topo_gp_points_1.csv\"\n",
    "div_data_file = \"Input/ideal_div_data.csv\"\n",
    "\n",
    "ensemble_count = 10 # Number of ensembles\n",
    "\n",
    "damage_table = pd.read_csv(damage_table_file) # Piecewise linear approx to damage on manhattan (all divs)\n",
    "Topo = Topo(topo_file=topo_file)\n",
    "Damage = Damage(damage_table_file)\n",
    "\n",
    "segment_l = 100\n",
    "wall_height = np.zeros(Topo.shore_height.size)\n"
   ]
  },
  {
   "cell_type": "code",
   "execution_count": 2,
   "id": "0438dcd1",
   "metadata": {},
   "outputs": [],
   "source": [
    "params.travel_dist = 999 # Make sure redistribution is inf\n",
    "groups = generate_groups(Topo.div_data) # Groups for redistribution (full domain with travel dist inf)\n",
    "\n",
    "h_max = 5 # Solution space boundary\n",
    "dh = 0.05 # Resolution"
   ]
  },
  {
   "cell_type": "markdown",
   "id": "acc895a3",
   "metadata": {},
   "source": [
    "# Grid search"
   ]
  },
  {
   "cell_type": "code",
   "execution_count": 3,
   "id": "4fa6d439",
   "metadata": {},
   "outputs": [
    {
     "name": "stdout",
     "output_type": "stream",
     "text": [
      "61.335022926330566\n"
     ]
    }
   ],
   "source": [
    "min_height = np.min(Topo.shore_height)\n",
    "N = int(np.max(np.ceil((h_max - min_height)/dh), 0))\n",
    "\n",
    "damage_div = np.empty((N, ensemble_count, 18)) # Uggly hardcode 18 divs\n",
    "\n",
    "surge_lst = [None]*ensemble_count\n",
    "surge_time_lst = [None]*ensemble_count\n",
    "\n",
    "\n",
    "time_start = time.time()\n",
    "for ens in range(ensemble_count):\n",
    "    surge_w = r'../SurgeData/%d-waterlevel_w.csv'%ens\n",
    "    surge_c = r'../SurgeData/%d-waterlevel_c.csv'%ens\n",
    "    time_w = r'../SurgeData/%d-time_w.csv'%ens\n",
    "    time_c = r'../SurgeData/%d-time_w.csv'%ens\n",
    "    \n",
    "    surge_lst[ens] = np.concatenate((pd.read_csv(surge_w).to_numpy(), pd.read_csv(surge_c).to_numpy()), axis=0)\n",
    "    surge_time_lst[ens] = np.concatenate((pd.read_csv(time_w).to_numpy(), pd.read_csv(time_c).to_numpy()), axis=0)\n",
    "      \n",
    "damage_per_ens = np.zeros(ensemble_count)\n",
    "points = np.zeros((N, 2))\n",
    "for n in range(N):\n",
    "    \n",
    "    height = min_height + n*dh\n",
    "    points[n,0] = height\n",
    "    \n",
    "    pos, wall_heights = get_wall_heights(Topo, height)\n",
    "    cost_wall = np.sum(49212 * wall_heights * segment_l)\n",
    "    \n",
    "    for ens in range(ensemble_count):\n",
    "        surge = surge_lst[ens]\n",
    "        surge_time = surge_time_lst[ens]\n",
    "        \n",
    "        height_div, volume_div = calc_flood_height(Topo, surge, surge_time, wall_heights, pos)\n",
    "        # calculate group volumes\n",
    "        volume_grouped = calc_group_vol(groups, volume_div)\n",
    "        \n",
    "        # get height in each group\n",
    "        surge_peak = np.amax(surge, axis=1)\n",
    "        height_grouped = calc_group_h(Topo, groups, volume_grouped, surge_peak)\n",
    "        \n",
    "        #Damage\n",
    "        dmg = Damage.calc_damage(height_grouped)\n",
    "        #dmg_per_storm = np.sum(dmg, axis=1)\n",
    "        dmg_per_div = np.sum(dmg, axis=0)\n",
    "        damage_per_ens[ens] = np.sum(dmg_per_div)\n",
    "        #damage_div[n, ens, :] = dmg_per_div\n",
    "    \n",
    "    dmg_avg = np.sum(damage_per_ens) / ensemble_count\n",
    "    cost_tot = dmg_avg + cost_wall\n",
    "    \n",
    "    points[n,1] = cost_tot\n",
    "\n",
    "print(time.time() - time_start)"
   ]
  },
  {
   "cell_type": "code",
   "execution_count": 4,
   "id": "61b1dfe2",
   "metadata": {},
   "outputs": [
    {
     "data": {
      "text/plain": [
       "Text(0.5, 0, 'Shore height (m)')"
      ]
     },
     "execution_count": 4,
     "metadata": {},
     "output_type": "execute_result"
    },
    {
     "data": {
      "image/png": "[encoded data removed]",
      "text/plain": [
       "<Figure size 432x288 with 1 Axes>"
      ]
     },
     "metadata": {
      "needs_background": "light"
     },
     "output_type": "display_data"
    }
   ],
   "source": [
    "df = pd.DataFrame(points)\n",
    "df.to_csv(\"sr_ideal_opt_grid_search_all_ens.csv\")\n",
    "plt.figure()\n",
    "plt.plot(points[:,0], points[:,1])\n",
    "plt.ylabel(r\"Total cost ($)\")\n",
    "plt.xlabel(r\"Shore height (m)\")"
   ]
  },
  {
   "cell_type": "code",
   "execution_count": 5,
   "id": "2b1684b7",
   "metadata": {},
   "outputs": [
    {
     "name": "stdout",
     "output_type": "stream",
     "text": [
      "3.15\n",
      "903575505.2877972\n"
     ]
    }
   ],
   "source": [
    "opt_idx = np.argmin(points[:,1])\n",
    "opt_x = points[opt_idx, 0]\n",
    "opt_obj = points[opt_idx, 1]\n",
    "print(opt_x)\n",
    "print(opt_obj)"
   ]
  },
  {
   "cell_type": "markdown",
   "id": "cc3a122f",
   "metadata": {},
   "source": [
    "# Define Objective Func"
   ]
  },
  {
   "cell_type": "code",
   "execution_count": 6,
   "id": "978a864e",
   "metadata": {},
   "outputs": [],
   "source": [
    "def objective(height, surge_lst, surge_time_lst):\n",
    "\n",
    "    pos, wall_heights = get_wall_heights(Topo, height)\n",
    "    cost_wall = np.sum(49212 * wall_heights * segment_l)\n",
    "\n",
    "    for ens in range(ensemble_count):\n",
    "        surge = surge_lst[ens]\n",
    "        surge_time = surge_time_lst[ens]\n",
    "\n",
    "        height_div, volume_div = calc_flood_height(Topo, surge, surge_time, wall_heights, pos)\n",
    "\n",
    "        # calculate group volumes\n",
    "        volume_grouped = calc_group_vol(groups, volume_div)\n",
    "\n",
    "        # get height in each group\n",
    "        surge_peak = np.amax(surge, axis=1)\n",
    "        height_grouped = calc_group_h(Topo, groups, volume_grouped, surge_peak)\n",
    "\n",
    "        #Damage\n",
    "        dmg = Damage.calc_damage(height_grouped)\n",
    "        dmg_per_storm = np.sum(dmg, axis=1)\n",
    "        dmg_per_div = np.sum(dmg, axis=0)\n",
    "        damage_per_ens[ens] = np.sum(dmg_per_div)\n",
    "\n",
    "    dmg_avg = np.sum(damage_per_ens) / ensemble_count\n",
    "    cost_tot = dmg_avg + cost_wall\n",
    "\n",
    "    return cost_tot"
   ]
  },
  {
   "cell_type": "markdown",
   "id": "c183e886",
   "metadata": {},
   "source": [
    "# Optimize with scipy minimize\n"
   ]
  },
  {
   "cell_type": "code",
   "execution_count": 7,
   "id": "1f8891ae",
   "metadata": {},
   "outputs": [
    {
     "name": "stdout",
     "output_type": "stream",
     "text": [
      "Optimization terminated successfully.\n",
      "         Current function value: 903541141.315787\n",
      "         Iterations: 9\n",
      "         Function evaluations: 18\n",
      "       allvecs: [array([2.]), array([2.3]), array([2.7]), array([3.1]), array([3.1]), array([3.2]), array([3.15]), array([3.15]), array([3.1375])]\n",
      " final_simplex: (array([[3.1375],\n",
      "       [3.15  ]]), array([9.03541141e+08, 9.03575505e+08]))\n",
      "           fun: 903541141.3157867\n",
      "       message: 'Optimization terminated successfully.'\n",
      "          nfev: 18\n",
      "           nit: 9\n",
      "        status: 0\n",
      "       success: True\n",
      "             x: array([3.1375])\n"
     ]
    }
   ],
   "source": [
    "surge_lst = [None]*ensemble_count\n",
    "surge_time_lst = [None]*ensemble_count\n",
    "for ens in range(ensemble_count):\n",
    "    surge_w = r'../SurgeData/%d-waterlevel_w.csv'%ens\n",
    "    surge_c = r'../SurgeData/%d-waterlevel_c.csv'%ens\n",
    "    time_w = r'../SurgeData/%d-time_w.csv'%ens\n",
    "    time_c = r'../SurgeData/%d-time_w.csv'%ens\n",
    "\n",
    "    surge_lst[ens] = np.concatenate((pd.read_csv(surge_w).to_numpy(), pd.read_csv(surge_c).to_numpy()), axis=0)\n",
    "    surge_time_lst[ens] = np.concatenate((pd.read_csv(time_w).to_numpy(), pd.read_csv(time_c).to_numpy()), axis=0)\n",
    "\n",
    "    damage_per_ens = np.zeros(ensemble_count)\n",
    "\n",
    "x_opt = scipy.optimize.minimize(objective, 2, args=(surge_lst, surge_time_lst), method='Nelder-Mead', tol = 1.0e6, options = {'disp': True, 'return_all': True})\n",
    "print(x_opt)"
   ]
  },
  {
   "cell_type": "code",
   "execution_count": null,
   "id": "59d2b829",
   "metadata": {},
   "outputs": [],
   "source": []
  }
 ],
 "metadata": {
  "kernelspec": {
   "display_name": "Python 3",
   "language": "python",
   "name": "python3"
  },
  "language_info": {
   "codemirror_mode": {
    "name": "ipython",
    "version": 3
   },
   "file_extension": ".py",
   "mimetype": "text/x-python",
   "name": "python",
   "nbconvert_exporter": "python",
   "pygments_lexer": "ipython3",
   "version": "3.7.11"
  }
 },
 "nbformat": 4,
 "nbformat_minor": 5
}
