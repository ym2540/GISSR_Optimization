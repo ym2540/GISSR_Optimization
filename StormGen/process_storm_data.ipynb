{
 "cells": [
  {
   "cell_type": "code",
   "execution_count": 6,
   "id": "19af0c5e",
   "metadata": {},
   "outputs": [],
   "source": [
    "import csv\n",
    "import pandas as pd\n",
    "import numpy as np\n",
    "from matplotlib import pyplot as plt\n",
    "from scipy import stats"
   ]
  },
  {
   "cell_type": "code",
   "execution_count": 3,
   "id": "5ee8b10d",
   "metadata": {},
   "outputs": [],
   "source": [
    "wind_max = []\n",
    "pressure_min = []\n",
    "\n",
    "with open('hurdat2-1851-2021-041922.txt', newline='') as f:\n",
    "    reader = csv.reader(f)\n",
    "    rows = list(reader)\n",
    "\n",
    "    storm_count = 0\n",
    "    r = 0\n",
    "\n",
    "    while r < len(rows):\n",
    "        rows_count = int(rows[r][2])\n",
    "        storm_count += 1\n",
    "        r += 1\n",
    "\n",
    "        wind_speeds = [int(l[6]) for l in rows[r:r + rows_count]]\n",
    "\n",
    "        wind_max.append(max(wind_speeds))\n",
    "\n",
    "        pressures = [int(l[7]) for l in rows[r:r + rows_count] if int(l[7]) > 0]\n",
    "        if pressures != []:\n",
    "            pressure_min.append(min(pressures))\n",
    "        else:\n",
    "            pressure_min.append(-999)\n",
    "\n",
    "        r += rows_count\n"
   ]
  },
  {
   "cell_type": "code",
   "execution_count": 4,
   "id": "28ee6e33",
   "metadata": {},
   "outputs": [
    {
     "data": {
      "text/plain": [
       "(array([  4.,   6.,  17.,  52.,  79., 119., 155., 218., 338., 198.]),\n",
       " array([ 882. ,  895.4,  908.8,  922.2,  935.6,  949. ,  962.4,  975.8,\n",
       "         989.2, 1002.6, 1016. ]),\n",
       " <BarContainer object of 10 artists>)"
      ]
     },
     "execution_count": 4,
     "metadata": {},
     "output_type": "execute_result"
    },
    {
     "data": {
      "image/png": "[encoded data removed]",
      "text/plain": [
       "<Figure size 432x288 with 1 Axes>"
      ]
     },
     "metadata": {
      "needs_background": "light"
     },
     "output_type": "display_data"
    }
   ],
   "source": [
    "plt.hist([p for p in pressure_min if p > 0])"
   ]
  },
  {
   "cell_type": "code",
   "execution_count": 5,
   "id": "c6ca62fd",
   "metadata": {},
   "outputs": [
    {
     "data": {
      "text/plain": [
       "(array([ 68., 157.,  58., 102., 146., 194., 105., 140.,  72., 159.,  75.,\n",
       "         81.,  83., 115.,  54.,  63.,  59.,  40.,  32.,  34.,  26.,  25.,\n",
       "         11.,  13.,   6.,  10.,   3.,   5.]),\n",
       " array([ 25,  30,  35,  40,  45,  50,  55,  60,  65,  70,  75,  80,  85,\n",
       "         90,  95, 100, 105, 110, 115, 120, 125, 130, 135, 140, 145, 150,\n",
       "        155, 160, 165]),\n",
       " <BarContainer object of 28 artists>)"
      ]
     },
     "execution_count": 5,
     "metadata": {},
     "output_type": "execute_result"
    },
    {
     "data": {
      "image/png": "[encoded data removed]",
      "text/plain": [
       "<Figure size 432x288 with 1 Axes>"
      ]
     },
     "metadata": {
      "needs_background": "light"
     },
     "output_type": "display_data"
    }
   ],
   "source": [
    "\n",
    "plt.hist(wind_max, bins=range(min(wind_max), max(wind_max) + 5, 5))"
   ]
  },
  {
   "cell_type": "code",
   "execution_count": 8,
   "id": "2bd0b0a5",
   "metadata": {},
   "outputs": [],
   "source": [
    "ksN = 100           # Kolmogorov-Smirnov KS test for goodness of fit: samples\n",
    "ALPHA = 0.05        # significance level for hypothesis test\n",
    "\n",
    "from scipy.stats import (\n",
    "    norm, beta, expon, gamma, genextreme, logistic, lognorm, triang, uniform, fatiguelife,            \n",
    "    gengamma, gennorm, dweibull, dgamma, gumbel_r, powernorm, rayleigh, weibull_max, weibull_min, \n",
    "    laplace, alpha, genexpon, bradford, betaprime, burr, fisk, genpareto, hypsecant, \n",
    "    halfnorm, halflogistic, invgauss, invgamma, levy, loglaplace, loggamma, maxwell, \n",
    "    mielke, ncx2, ncf, nct, nakagami, pareto, lomax, powerlognorm, powerlaw, rice, \n",
    "    semicircular, trapezoid, rice, invweibull, foldnorm, foldcauchy, cosine, exponpow, \n",
    "    exponweib, wald, wrapcauchy, truncexpon, truncnorm, t, rdist\n",
    "    )\n",
    "\n",
    "distributions = [\n",
    "    norm, beta, expon, gamma, genextreme, logistic, lognorm, triang, uniform, fatiguelife,            \n",
    "    gengamma, gennorm, dweibull, dgamma, gumbel_r, powernorm, rayleigh, weibull_max, weibull_min, \n",
    "    laplace, alpha, genexpon, bradford, betaprime, burr, fisk, genpareto, hypsecant, \n",
    "    halfnorm, halflogistic, invgauss, invgamma, levy, loglaplace, loggamma, maxwell, \n",
    "    mielke, ncx2, ncf, nct, nakagami, pareto, lomax, powerlognorm, powerlaw, rice, \n",
    "    semicircular, trapezoid, rice, invweibull, foldnorm, foldcauchy, cosine, exponpow, \n",
    "    exponweib, wald, wrapcauchy, truncexpon, truncnorm, t, rdist\n",
    "    ]"
   ]
  },
  {
   "cell_type": "code",
   "execution_count": 97,
   "id": "4d71b1fd",
   "metadata": {},
   "outputs": [
    {
     "data": {
      "image/png": "[encoded data removed]",
      "text/plain": [
       "<Figure size 432x288 with 1 Axes>"
      ]
     },
     "metadata": {
      "needs_background": "light"
     },
     "output_type": "display_data"
    }
   ],
   "source": [
    "a, b = 2, 6\n",
    "\n",
    "x = beta.rvs(a,b,size=1000)\n",
    "\n",
    "fig, ax = plt.subplots(1,1)\n",
    "ax.hist(x, density=True, histtype='stepfilled', alpha=0.5)\n",
    "plt.show()"
   ]
  },
  {
   "cell_type": "code",
   "execution_count": 15,
   "id": "359d7f88",
   "metadata": {},
   "outputs": [
    {
     "data": {
      "text/plain": [
       "[<matplotlib.lines.Line2D at 0x219c8934108>]"
      ]
     },
     "execution_count": 15,
     "metadata": {},
     "output_type": "execute_result"
    },
    {
     "data": {
      "image/png": "[encoded data removed]",
      "text/plain": [
       "<Figure size 432x288 with 1 Axes>"
      ]
     },
     "metadata": {
      "needs_background": "light"
     },
     "output_type": "display_data"
    }
   ],
   "source": [
    "rv = beta(a,b)\n",
    "x = np.linspace(rv.ppf(0.1), rv.ppf(0.99), 100)\n",
    "fig, ax = plt.subplots(1, 1)\n",
    "ax.plot(x, rv.pdf(x), 'r-')"
   ]
  },
  {
   "cell_type": "code",
   "execution_count": 18,
   "id": "d791dcba",
   "metadata": {},
   "outputs": [
    {
     "name": "stdout",
     "output_type": "stream",
     "text": [
      "(100.0, 320.0)\n"
     ]
    },
    {
     "data": {
      "text/plain": [
       "[<matplotlib.lines.Line2D at 0x219c8abff88>]"
      ]
     },
     "execution_count": 18,
     "metadata": {},
     "output_type": "execute_result"
    },
    {
     "data": {
      "image/png": "[encoded data removed]",
      "text/plain": [
       "<Figure size 432x288 with 1 Axes>"
      ]
     },
     "metadata": {
      "needs_background": "light"
     },
     "output_type": "display_data"
    }
   ],
   "source": [
    "# horizontally shift the beta distribution and rescale its right tail to \n",
    "\n",
    "loc, scl = 100, 220\n",
    "rv = beta(a,b, loc,scl)\n",
    "print(rv.support())\n",
    "\n",
    "x = np.linspace(rv.ppf(0.01),\n",
    "                rv.ppf(0.99), 100)\n",
    "\n",
    "fig, ax = plt.subplots(1, 1)\n",
    "ax.plot(x, rv.pdf(x), 'r-', lw=5, alpha=0.6, label='beta pdf')"
   ]
  },
  {
   "cell_type": "code",
   "execution_count": 19,
   "id": "adde349b",
   "metadata": {},
   "outputs": [
    {
     "data": {
      "text/plain": [
       "[<matplotlib.lines.Line2D at 0x219c8b04b88>]"
      ]
     },
     "execution_count": 19,
     "metadata": {},
     "output_type": "execute_result"
    },
    {
     "data": {
      "image/png": "[encoded data removed]",
      "text/plain": [
       "<Figure size 432x288 with 1 Axes>"
      ]
     },
     "metadata": {
      "needs_background": "light"
     },
     "output_type": "display_data"
    }
   ],
   "source": [
    "# plot the cdf\n",
    "\n",
    "fig, ax = plt.subplots(1, 1)\n",
    "ax.plot(x, rv.cdf(x), 'r-', lw=5, alpha=0.6, label='beta cdf')"
   ]
  },
  {
   "cell_type": "markdown",
   "id": "489c66d6",
   "metadata": {},
   "source": [
    "# FITTING"
   ]
  },
  {
   "cell_type": "code",
   "execution_count": 96,
   "id": "126d079c",
   "metadata": {},
   "outputs": [
    {
     "data": {
      "text/plain": [
       "[<matplotlib.lines.Line2D at 0x219cb541948>]"
      ]
     },
     "execution_count": 96,
     "metadata": {},
     "output_type": "execute_result"
    },
    {
     "data": {
      "image/png": "[encoded data removed]",
      "text/plain": [
       "<Figure size 432x288 with 1 Axes>"
      ]
     },
     "metadata": {
      "needs_background": "light"
     },
     "output_type": "display_data"
    }
   ],
   "source": [
    "distr = lognorm\n",
    "data = [p for p in pressure_min if p > 0]\n",
    "press_min = min(data)\n",
    "data = [p - press_min for p in data]\n",
    "data = wind_max\n",
    "\n",
    "params = distr.fit(data)\n",
    "rv = distr(*params)\n",
    "\n",
    "x = np.linspace(rv.ppf(0.01),\n",
    "                rv.ppf(0.99), 100)\n",
    "\n",
    "fig, ax = plt.subplots(1, 1)\n",
    "\n",
    "ax.hist(data, bins=range(min(wind_max), max(wind_max) + 5, 5) , density=True, histtype='stepfilled', alpha=0.4)\n",
    "ax.plot(x, rv.pdf(x), 'r-', lw=3, alpha=0.7,)"
   ]
  },
  {
   "cell_type": "code",
   "execution_count": 78,
   "id": "ce8469bc",
   "metadata": {},
   "outputs": [
    {
     "data": {
      "text/plain": [
       "KstestResult(statistic=0.06649286503293617, pvalue=6.925926509277542e-08)"
      ]
     },
     "execution_count": 78,
     "metadata": {},
     "output_type": "execute_result"
    }
   ],
   "source": [
    "# KS test for goodness of fit: p-value > 0.05 =\n",
    "stats.kstest(data, distr.name, params)   # return p-value\n"
   ]
  },
  {
   "cell_type": "code",
   "execution_count": 89,
   "id": "193c4e5a",
   "metadata": {},
   "outputs": [
    {
     "name": "stderr",
     "output_type": "stream",
     "text": [
      "C:\\Users\\Admin\\miniconda3\\envs\\arcgispro-py3\\lib\\site-packages\\scipy\\stats\\_continuous_distns.py:621: RuntimeWarning: invalid value encountered in sqrt\n",
      "  sk = 2*(b-a)*np.sqrt(a + b + 1) / (a + b + 2) / np.sqrt(a*b)\n",
      "C:\\Users\\Admin\\miniconda3\\envs\\arcgispro-py3\\lib\\site-packages\\scipy\\stats\\_distn_infrastructure.py:2494: RuntimeWarning: invalid value encountered in double_scalars\n",
      "  Lhat = muhat - Shat*mu\n",
      "C:\\Users\\Admin\\miniconda3\\envs\\arcgispro-py3\\lib\\site-packages\\scipy\\stats\\_continuous_distns.py:781: RuntimeWarning: divide by zero encountered in true_divide\n",
      "  a/(b-1.0),\n",
      "C:\\Users\\Admin\\miniconda3\\envs\\arcgispro-py3\\lib\\site-packages\\scipy\\stats\\_continuous_distns.py:785: RuntimeWarning: divide by zero encountered in true_divide\n",
      "  a*(a+1.0)/((b-2.0)*(b-1.0)),\n",
      "C:\\Users\\Admin\\miniconda3\\envs\\arcgispro-py3\\lib\\site-packages\\scipy\\stats\\_continuous_distns.py:5003: RuntimeWarning: divide by zero encountered in true_divide\n",
      "  return c**2 / (c**2 - n**2)\n",
      "C:\\Users\\Admin\\miniconda3\\envs\\arcgispro-py3\\lib\\site-packages\\scipy\\stats\\_continuous_distns.py:6063: RuntimeWarning: overflow encountered in exp\n",
      "  Px = np.exp(trm1)\n",
      "C:\\Users\\Admin\\miniconda3\\envs\\arcgispro-py3\\lib\\site-packages\\scipy\\stats\\_continuous_distns.py:6069: RuntimeWarning: invalid value encountered in multiply\n",
      "  Px *= trm1+trm2\n",
      "C:\\Users\\Admin\\miniconda3\\envs\\arcgispro-py3\\lib\\site-packages\\scipy\\stats\\_distn_infrastructure.py:1797: RuntimeWarning: divide by zero encountered in log\n",
      "  return log(self._pdf(x, *args))\n",
      "C:\\Users\\Admin\\miniconda3\\envs\\arcgispro-py3\\lib\\site-packages\\scipy\\stats\\_continuous_distns.py:6066: RuntimeWarning: overflow encountered in multiply\n",
      "  trm1 /= np.asarray(fac1*sc.gamma((n+1)/2))\n",
      "C:\\Users\\Admin\\miniconda3\\envs\\arcgispro-py3\\lib\\site-packages\\scipy\\stats\\_continuous_distns.py:6068: RuntimeWarning: overflow encountered in multiply\n",
      "  trm2 /= np.asarray(np.sqrt(fac1)*sc.gamma(n/2+1))\n",
      "C:\\Users\\Admin\\miniconda3\\envs\\arcgispro-py3\\lib\\site-packages\\scipy\\stats\\_continuous_distns.py:6503: RuntimeWarning: divide by zero encountered in power\n",
      "  pow(_norm_cdf(-np.log(x)/s), c*1.0-1.0))\n",
      "C:\\Users\\Admin\\miniconda3\\envs\\arcgispro-py3\\lib\\site-packages\\scipy\\stats\\_continuous_distns.py:6503: RuntimeWarning: invalid value encountered in multiply\n",
      "  pow(_norm_cdf(-np.log(x)/s), c*1.0-1.0))\n",
      "C:\\Users\\Admin\\miniconda3\\envs\\arcgispro-py3\\lib\\site-packages\\scipy\\stats\\_continuous_distns.py:6503: RuntimeWarning: overflow encountered in power\n",
      "  pow(_norm_cdf(-np.log(x)/s), c*1.0-1.0))\n",
      "C:\\Users\\Admin\\miniconda3\\envs\\arcgispro-py3\\lib\\site-packages\\scipy\\stats\\_continuous_distns.py:6967: RuntimeWarning: divide by zero encountered in log1p\n",
      "  return np.log(2/np.pi) + 0.5*np.log1p(-x*x)\n",
      "C:\\Users\\Admin\\miniconda3\\envs\\arcgispro-py3\\lib\\site-packages\\scipy\\optimize\\optimize.py:734: RuntimeWarning: invalid value encountered in subtract\n",
      "  np.max(np.abs(fsim[0] - fsim[1:])) <= fatol):\n"
     ]
    },
    {
     "data": {
      "text/html": [
       "<div>\n",
       "<style scoped>\n",
       "    .dataframe tbody tr th:only-of-type {\n",
       "        vertical-align: middle;\n",
       "    }\n",
       "\n",
       "    .dataframe tbody tr th {\n",
       "        vertical-align: top;\n",
       "    }\n",
       "\n",
       "    .dataframe thead th {\n",
       "        text-align: right;\n",
       "    }\n",
       "</style>\n",
       "<table border=\"1\" class=\"dataframe\">\n",
       "  <thead>\n",
       "    <tr style=\"text-align: right;\">\n",
       "      <th></th>\n",
       "      <th>distribution</th>\n",
       "      <th>KS p-value</th>\n",
       "      <th>param1</th>\n",
       "      <th>param2</th>\n",
       "      <th>param3</th>\n",
       "      <th>param4</th>\n",
       "      <th>param5</th>\n",
       "      <th>distobj</th>\n",
       "    </tr>\n",
       "  </thead>\n",
       "  <tbody>\n",
       "    <tr>\n",
       "      <th>0</th>\n",
       "      <td>mielke</td>\n",
       "      <td>0.007</td>\n",
       "      <td>4.094</td>\n",
       "      <td>105.205</td>\n",
       "      <td>-21.668</td>\n",
       "      <td>147.934</td>\n",
       "      <td>NaN</td>\n",
       "      <td>&lt;scipy.stats._continuous_distns.mielke_gen obj...</td>\n",
       "    </tr>\n",
       "    <tr>\n",
       "      <th>1</th>\n",
       "      <td>loggamma</td>\n",
       "      <td>0.002</td>\n",
       "      <td>0.149</td>\n",
       "      <td>126.118</td>\n",
       "      <td>4.050</td>\n",
       "      <td>NaN</td>\n",
       "      <td>NaN</td>\n",
       "      <td>&lt;scipy.stats._continuous_distns.loggamma_gen o...</td>\n",
       "    </tr>\n",
       "    <tr>\n",
       "      <th>2</th>\n",
       "      <td>beta</td>\n",
       "      <td>0.000</td>\n",
       "      <td>472,543.886</td>\n",
       "      <td>2.262</td>\n",
       "      <td>-7,694,152.298</td>\n",
       "      <td>7,694,286.523</td>\n",
       "      <td>NaN</td>\n",
       "      <td>&lt;scipy.stats._continuous_distns.beta_gen objec...</td>\n",
       "    </tr>\n",
       "    <tr>\n",
       "      <th>3</th>\n",
       "      <td>genextreme</td>\n",
       "      <td>0.000</td>\n",
       "      <td>0.636</td>\n",
       "      <td>93.065</td>\n",
       "      <td>26.082</td>\n",
       "      <td>NaN</td>\n",
       "      <td>NaN</td>\n",
       "      <td>&lt;scipy.stats._continuous_distns.genextreme_gen...</td>\n",
       "    </tr>\n",
       "    <tr>\n",
       "      <th>4</th>\n",
       "      <td>powernorm</td>\n",
       "      <td>0.000</td>\n",
       "      <td>39,803.410</td>\n",
       "      <td>428.831</td>\n",
       "      <td>79.108</td>\n",
       "      <td>NaN</td>\n",
       "      <td>NaN</td>\n",
       "      <td>&lt;scipy.stats._continuous_distns.powernorm_gen ...</td>\n",
       "    </tr>\n",
       "    <tr>\n",
       "      <th>...</th>\n",
       "      <td>...</td>\n",
       "      <td>...</td>\n",
       "      <td>...</td>\n",
       "      <td>...</td>\n",
       "      <td>...</td>\n",
       "      <td>...</td>\n",
       "      <td>...</td>\n",
       "      <td>...</td>\n",
       "    </tr>\n",
       "    <tr>\n",
       "      <th>56</th>\n",
       "      <td>fisk</td>\n",
       "      <td>0.000</td>\n",
       "      <td>0.444</td>\n",
       "      <td>-0.000</td>\n",
       "      <td>3.055</td>\n",
       "      <td>NaN</td>\n",
       "      <td>NaN</td>\n",
       "      <td>&lt;scipy.stats._continuous_distns.fisk_gen objec...</td>\n",
       "    </tr>\n",
       "    <tr>\n",
       "      <th>57</th>\n",
       "      <td>ncx2</td>\n",
       "      <td>0.000</td>\n",
       "      <td>0.000</td>\n",
       "      <td>1.322</td>\n",
       "      <td>-0.000</td>\n",
       "      <td>2.784</td>\n",
       "      <td>NaN</td>\n",
       "      <td>&lt;scipy.stats._continuous_distns.ncx2_gen objec...</td>\n",
       "    </tr>\n",
       "    <tr>\n",
       "      <th>58</th>\n",
       "      <td>genpareto</td>\n",
       "      <td>0.000</td>\n",
       "      <td>1.450</td>\n",
       "      <td>-0.000</td>\n",
       "      <td>2.232</td>\n",
       "      <td>NaN</td>\n",
       "      <td>NaN</td>\n",
       "      <td>&lt;scipy.stats._continuous_distns.genpareto_gen ...</td>\n",
       "    </tr>\n",
       "    <tr>\n",
       "      <th>59</th>\n",
       "      <td>rdist</td>\n",
       "      <td>0.000</td>\n",
       "      <td>1.193</td>\n",
       "      <td>-9.693</td>\n",
       "      <td>143.693</td>\n",
       "      <td>NaN</td>\n",
       "      <td>NaN</td>\n",
       "      <td>&lt;scipy.stats._continuous_distns.rdist_gen obje...</td>\n",
       "    </tr>\n",
       "    <tr>\n",
       "      <th>60</th>\n",
       "      <td>wrapcauchy</td>\n",
       "      <td>NaN</td>\n",
       "      <td>1.000</td>\n",
       "      <td>-13.400</td>\n",
       "      <td>25.592</td>\n",
       "      <td>NaN</td>\n",
       "      <td>NaN</td>\n",
       "      <td>&lt;scipy.stats._continuous_distns.wrapcauchy_gen...</td>\n",
       "    </tr>\n",
       "  </tbody>\n",
       "</table>\n",
       "<p>61 rows × 8 columns</p>\n",
       "</div>"
      ],
      "text/plain": [
       "   distribution  KS p-value      param1  param2         param3        param4  \\\n",
       "0        mielke       0.007       4.094 105.205        -21.668       147.934   \n",
       "1      loggamma       0.002       0.149 126.118          4.050           NaN   \n",
       "2          beta       0.000 472,543.886   2.262 -7,694,152.298 7,694,286.523   \n",
       "3    genextreme       0.000       0.636  93.065         26.082           NaN   \n",
       "4     powernorm       0.000  39,803.410 428.831         79.108           NaN   \n",
       "..          ...         ...         ...     ...            ...           ...   \n",
       "56         fisk       0.000       0.444  -0.000          3.055           NaN   \n",
       "57         ncx2       0.000       0.000   1.322         -0.000         2.784   \n",
       "58    genpareto       0.000       1.450  -0.000          2.232           NaN   \n",
       "59        rdist       0.000       1.193  -9.693        143.693           NaN   \n",
       "60   wrapcauchy         NaN       1.000 -13.400         25.592           NaN   \n",
       "\n",
       "    param5                                            distobj  \n",
       "0      NaN  <scipy.stats._continuous_distns.mielke_gen obj...  \n",
       "1      NaN  <scipy.stats._continuous_distns.loggamma_gen o...  \n",
       "2      NaN  <scipy.stats._continuous_distns.beta_gen objec...  \n",
       "3      NaN  <scipy.stats._continuous_distns.genextreme_gen...  \n",
       "4      NaN  <scipy.stats._continuous_distns.powernorm_gen ...  \n",
       "..     ...                                                ...  \n",
       "56     NaN  <scipy.stats._continuous_distns.fisk_gen objec...  \n",
       "57     NaN  <scipy.stats._continuous_distns.ncx2_gen objec...  \n",
       "58     NaN  <scipy.stats._continuous_distns.genpareto_gen ...  \n",
       "59     NaN  <scipy.stats._continuous_distns.rdist_gen obje...  \n",
       "60     NaN  <scipy.stats._continuous_distns.wrapcauchy_gen...  \n",
       "\n",
       "[61 rows x 8 columns]"
      ]
     },
     "execution_count": 89,
     "metadata": {},
     "output_type": "execute_result"
    }
   ],
   "source": [
    "def kstest(data, distname, paramtup):\n",
    "    ks = stats.kstest(data, distname, paramtup, ksN)[1]   # return p-value\n",
    "    return ks             # return p-value \n",
    "\n",
    "def fitdist(data, dist):    \n",
    "    fitted = dist.fit(data)\n",
    "    ks = kstest(data, dist.name, fitted)\n",
    "    res = (dist.name, ks, *fitted)\n",
    "    return res\n",
    "\n",
    "res = [fitdist(data,D) for D in distributions]\n",
    "\n",
    "pd.options.display.float_format = '{:,.3f}'.format\n",
    "df = pd.DataFrame(res, columns=[\"distribution\", \"KS p-value\", \"param1\", \"param2\", \"param3\", \"param4\", \"param5\"])\n",
    "df[\"distobj\"] = distributions\n",
    "df.sort_values(by=[\"KS p-value\"], inplace=True, ascending=False)\n",
    "df.reset_index(inplace=True)\n",
    "df.drop(\"index\", axis=1, inplace=True)\n",
    "df"
   ]
  },
  {
   "cell_type": "code",
   "execution_count": null,
   "id": "6ad260fc",
   "metadata": {},
   "outputs": [],
   "source": [
    "kernel = stats.gaussian_kde(data)"
   ]
  },
  {
   "cell_type": "code",
   "execution_count": null,
   "id": "d760a5e8",
   "metadata": {},
   "outputs": [],
   "source": []
  }
 ],
 "metadata": {
  "kernelspec": {
   "display_name": "Python 3",
   "language": "python",
   "name": "python3"
  },
  "language_info": {
   "codemirror_mode": {
    "name": "ipython",
    "version": 3
   },
   "file_extension": ".py",
   "mimetype": "text/x-python",
   "name": "python",
   "nbconvert_exporter": "python",
   "pygments_lexer": "ipython3",
   "version": "3.7.11"
  }
 },
 "nbformat": 4,
 "nbformat_minor": 5
}
