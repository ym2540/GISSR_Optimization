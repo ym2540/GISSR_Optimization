{
 "cells": [
  {
   "cell_type": "code",
   "execution_count": 3,
   "metadata": {},
   "outputs": [
    {
     "name": "stdout",
     "output_type": "stream",
     "text": [
      "743\n",
      "4643428230.623345\n"
     ]
    }
   ],
   "source": [
    "import numpy as np\n",
    "d = []\n",
    "for i in range(1530):\n",
    "    d.append(np.genfromtxt('n2/'+str(i)))\n",
    "d = np.array(d)\n",
    "minv = d[0,3]\n",
    "mini = 0\n",
    "for i in range(1530):\n",
    "    if (d[i,3] < minv):\n",
    "        minv = d[i,3]\n",
    "        mini = i\n",
    "\n",
    "print(mini)\n",
    "print(minv)\n"
   ]
  },
  {
   "cell_type": "code",
   "execution_count": 5,
   "metadata": {},
   "outputs": [
    {
     "name": "stdout",
     "output_type": "stream",
     "text": [
      "[4.00000000e+01 1.63000000e+02 2.00000000e+00 4.64342823e+09\n",
      " 2.69025600e+09]\n"
     ]
    }
   ],
   "source": [
    "print(np.genfromtxt('n2/'+str(mini)))"
   ]
  },
  {
   "cell_type": "code",
   "execution_count": null,
   "metadata": {},
   "outputs": [],
   "source": []
  }
 ],
 "metadata": {
  "kernelspec": {
   "display_name": "Python 3",
   "language": "python",
   "name": "python3"
  },
  "language_info": {
   "codemirror_mode": {
    "name": "ipython",
    "version": 3
   },
   "file_extension": ".py",
   "mimetype": "text/x-python",
   "name": "python",
   "nbconvert_exporter": "python",
   "pygments_lexer": "ipython3",
   "version": "3.7.4"
  }
 },
 "nbformat": 4,
 "nbformat_minor": 2
}
